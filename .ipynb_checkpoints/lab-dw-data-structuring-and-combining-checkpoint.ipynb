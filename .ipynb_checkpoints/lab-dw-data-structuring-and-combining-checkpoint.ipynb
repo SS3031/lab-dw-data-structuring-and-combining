{
 "cells": [
  {
   "cell_type": "markdown",
   "id": "25d7736c-ba17-4aff-b6bb-66eba20fbf4e",
   "metadata": {
    "id": "25d7736c-ba17-4aff-b6bb-66eba20fbf4e"
   },
   "source": [
    "# Lab | Data Structuring and Combining Data"
   ]
  },
  {
   "cell_type": "markdown",
   "id": "a2cdfc70-44c8-478c-81e7-2bc43fdf4986",
   "metadata": {
    "id": "a2cdfc70-44c8-478c-81e7-2bc43fdf4986"
   },
   "source": [
    "## Challenge 1: Combining & Cleaning Data\n",
    "\n",
    "In this challenge, we will be working with the customer data from an insurance company, as we did in the two previous labs. The data can be found here:\n",
    "- https://raw.githubusercontent.com/data-bootcamp-v4/data/main/file1.csv\n",
    "\n",
    "But this time, we got new data, which can be found in the following 2 CSV files located at the links below.\n",
    "\n",
    "- https://raw.githubusercontent.com/data-bootcamp-v4/data/main/file2.csv\n",
    "- https://raw.githubusercontent.com/data-bootcamp-v4/data/main/file3.csv\n",
    "\n",
    "Note that you'll need to clean and format the new data.\n",
    "\n",
    "Observation:\n",
    "- One option is to first combine the three datasets and then apply the cleaning function to the new combined dataset\n",
    "- Another option would be to read the clean file you saved in the previous lab, and just clean the two new files and concatenate the three clean datasets"
   ]
  },
  {
   "cell_type": "markdown",
   "id": "5db62e42",
   "metadata": {},
   "source": [
    "## Get the data source"
   ]
  },
  {
   "cell_type": "code",
   "execution_count": 1,
   "id": "492d06e3-92c7-4105-ac72-536db98d3244",
   "metadata": {
    "id": "492d06e3-92c7-4105-ac72-536db98d3244"
   },
   "outputs": [],
   "source": [
    "# Your code goes here\n",
    "import pandas as pd\n",
    "\n",
    "# Read data from URLs\n",
    "url1 = \"https://raw.githubusercontent.com/data-bootcamp-v4/data/main/file1.csv\"\n",
    "url2 = \"https://raw.githubusercontent.com/data-bootcamp-v4/data/main/file2.csv\"\n",
    "url3 = \"https://raw.githubusercontent.com/data-bootcamp-v4/data/main/file3.csv\"\n",
    "\n",
    "# Read data into dataframes\n",
    "df1 = pd.read_csv(url1)\n",
    "df2 = pd.read_csv(url2)\n",
    "df3 = pd.read_csv(url3)\n",
    "\n"
   ]
  },
  {
   "cell_type": "markdown",
   "id": "6308d7bc",
   "metadata": {},
   "source": [
    "## Now combining the data sets"
   ]
  },
  {
   "cell_type": "code",
   "execution_count": 6,
   "id": "09a907ad",
   "metadata": {},
   "outputs": [
    {
     "data": {
      "text/html": [
       "<div>\n",
       "<style scoped>\n",
       "    .dataframe tbody tr th:only-of-type {\n",
       "        vertical-align: middle;\n",
       "    }\n",
       "\n",
       "    .dataframe tbody tr th {\n",
       "        vertical-align: top;\n",
       "    }\n",
       "\n",
       "    .dataframe thead th {\n",
       "        text-align: right;\n",
       "    }\n",
       "</style>\n",
       "<table border=\"1\" class=\"dataframe\">\n",
       "  <thead>\n",
       "    <tr style=\"text-align: right;\">\n",
       "      <th></th>\n",
       "      <th>Customer</th>\n",
       "      <th>ST</th>\n",
       "      <th>GENDER</th>\n",
       "      <th>Education</th>\n",
       "      <th>Customer Lifetime Value</th>\n",
       "      <th>Income</th>\n",
       "      <th>Monthly Premium Auto</th>\n",
       "      <th>Number of Open Complaints</th>\n",
       "      <th>Policy Type</th>\n",
       "      <th>Vehicle Class</th>\n",
       "      <th>Total Claim Amount</th>\n",
       "      <th>State</th>\n",
       "      <th>Gender</th>\n",
       "    </tr>\n",
       "  </thead>\n",
       "  <tbody>\n",
       "    <tr>\n",
       "      <th>0</th>\n",
       "      <td>RB50392</td>\n",
       "      <td>Washington</td>\n",
       "      <td>NaN</td>\n",
       "      <td>Master</td>\n",
       "      <td>NaN</td>\n",
       "      <td>0.0</td>\n",
       "      <td>1000.0</td>\n",
       "      <td>1/0/00</td>\n",
       "      <td>Personal Auto</td>\n",
       "      <td>Four-Door Car</td>\n",
       "      <td>2.704934</td>\n",
       "      <td>NaN</td>\n",
       "      <td>NaN</td>\n",
       "    </tr>\n",
       "    <tr>\n",
       "      <th>1</th>\n",
       "      <td>QZ44356</td>\n",
       "      <td>Arizona</td>\n",
       "      <td>F</td>\n",
       "      <td>Bachelor</td>\n",
       "      <td>697953.59%</td>\n",
       "      <td>0.0</td>\n",
       "      <td>94.0</td>\n",
       "      <td>1/0/00</td>\n",
       "      <td>Personal Auto</td>\n",
       "      <td>Four-Door Car</td>\n",
       "      <td>1131.464935</td>\n",
       "      <td>NaN</td>\n",
       "      <td>NaN</td>\n",
       "    </tr>\n",
       "    <tr>\n",
       "      <th>2</th>\n",
       "      <td>AI49188</td>\n",
       "      <td>Nevada</td>\n",
       "      <td>F</td>\n",
       "      <td>Bachelor</td>\n",
       "      <td>1288743.17%</td>\n",
       "      <td>48767.0</td>\n",
       "      <td>108.0</td>\n",
       "      <td>1/0/00</td>\n",
       "      <td>Personal Auto</td>\n",
       "      <td>Two-Door Car</td>\n",
       "      <td>566.472247</td>\n",
       "      <td>NaN</td>\n",
       "      <td>NaN</td>\n",
       "    </tr>\n",
       "    <tr>\n",
       "      <th>3</th>\n",
       "      <td>WW63253</td>\n",
       "      <td>California</td>\n",
       "      <td>M</td>\n",
       "      <td>Bachelor</td>\n",
       "      <td>764586.18%</td>\n",
       "      <td>0.0</td>\n",
       "      <td>106.0</td>\n",
       "      <td>1/0/00</td>\n",
       "      <td>Corporate Auto</td>\n",
       "      <td>SUV</td>\n",
       "      <td>529.881344</td>\n",
       "      <td>NaN</td>\n",
       "      <td>NaN</td>\n",
       "    </tr>\n",
       "    <tr>\n",
       "      <th>4</th>\n",
       "      <td>GA49547</td>\n",
       "      <td>Washington</td>\n",
       "      <td>M</td>\n",
       "      <td>High School or Below</td>\n",
       "      <td>536307.65%</td>\n",
       "      <td>36357.0</td>\n",
       "      <td>68.0</td>\n",
       "      <td>1/0/00</td>\n",
       "      <td>Personal Auto</td>\n",
       "      <td>Four-Door Car</td>\n",
       "      <td>17.269323</td>\n",
       "      <td>NaN</td>\n",
       "      <td>NaN</td>\n",
       "    </tr>\n",
       "    <tr>\n",
       "      <th>...</th>\n",
       "      <td>...</td>\n",
       "      <td>...</td>\n",
       "      <td>...</td>\n",
       "      <td>...</td>\n",
       "      <td>...</td>\n",
       "      <td>...</td>\n",
       "      <td>...</td>\n",
       "      <td>...</td>\n",
       "      <td>...</td>\n",
       "      <td>...</td>\n",
       "      <td>...</td>\n",
       "      <td>...</td>\n",
       "      <td>...</td>\n",
       "    </tr>\n",
       "    <tr>\n",
       "      <th>12069</th>\n",
       "      <td>LA72316</td>\n",
       "      <td>NaN</td>\n",
       "      <td>NaN</td>\n",
       "      <td>Bachelor</td>\n",
       "      <td>23405.98798</td>\n",
       "      <td>71941.0</td>\n",
       "      <td>73.0</td>\n",
       "      <td>0</td>\n",
       "      <td>Personal Auto</td>\n",
       "      <td>Four-Door Car</td>\n",
       "      <td>198.234764</td>\n",
       "      <td>California</td>\n",
       "      <td>M</td>\n",
       "    </tr>\n",
       "    <tr>\n",
       "      <th>12070</th>\n",
       "      <td>PK87824</td>\n",
       "      <td>NaN</td>\n",
       "      <td>NaN</td>\n",
       "      <td>College</td>\n",
       "      <td>3096.511217</td>\n",
       "      <td>21604.0</td>\n",
       "      <td>79.0</td>\n",
       "      <td>0</td>\n",
       "      <td>Corporate Auto</td>\n",
       "      <td>Four-Door Car</td>\n",
       "      <td>379.200000</td>\n",
       "      <td>California</td>\n",
       "      <td>F</td>\n",
       "    </tr>\n",
       "    <tr>\n",
       "      <th>12071</th>\n",
       "      <td>TD14365</td>\n",
       "      <td>NaN</td>\n",
       "      <td>NaN</td>\n",
       "      <td>Bachelor</td>\n",
       "      <td>8163.890428</td>\n",
       "      <td>0.0</td>\n",
       "      <td>85.0</td>\n",
       "      <td>3</td>\n",
       "      <td>Corporate Auto</td>\n",
       "      <td>Four-Door Car</td>\n",
       "      <td>790.784983</td>\n",
       "      <td>California</td>\n",
       "      <td>M</td>\n",
       "    </tr>\n",
       "    <tr>\n",
       "      <th>12072</th>\n",
       "      <td>UP19263</td>\n",
       "      <td>NaN</td>\n",
       "      <td>NaN</td>\n",
       "      <td>College</td>\n",
       "      <td>7524.442436</td>\n",
       "      <td>21941.0</td>\n",
       "      <td>96.0</td>\n",
       "      <td>0</td>\n",
       "      <td>Personal Auto</td>\n",
       "      <td>Four-Door Car</td>\n",
       "      <td>691.200000</td>\n",
       "      <td>California</td>\n",
       "      <td>M</td>\n",
       "    </tr>\n",
       "    <tr>\n",
       "      <th>12073</th>\n",
       "      <td>Y167826</td>\n",
       "      <td>NaN</td>\n",
       "      <td>NaN</td>\n",
       "      <td>College</td>\n",
       "      <td>2611.836866</td>\n",
       "      <td>0.0</td>\n",
       "      <td>77.0</td>\n",
       "      <td>0</td>\n",
       "      <td>Corporate Auto</td>\n",
       "      <td>Two-Door Car</td>\n",
       "      <td>369.600000</td>\n",
       "      <td>California</td>\n",
       "      <td>M</td>\n",
       "    </tr>\n",
       "  </tbody>\n",
       "</table>\n",
       "<p>12074 rows × 13 columns</p>\n",
       "</div>"
      ],
      "text/plain": [
       "      Customer          ST GENDER             Education  \\\n",
       "0      RB50392  Washington    NaN                Master   \n",
       "1      QZ44356     Arizona      F              Bachelor   \n",
       "2      AI49188      Nevada      F              Bachelor   \n",
       "3      WW63253  California      M              Bachelor   \n",
       "4      GA49547  Washington      M  High School or Below   \n",
       "...        ...         ...    ...                   ...   \n",
       "12069  LA72316         NaN    NaN              Bachelor   \n",
       "12070  PK87824         NaN    NaN               College   \n",
       "12071  TD14365         NaN    NaN              Bachelor   \n",
       "12072  UP19263         NaN    NaN               College   \n",
       "12073  Y167826         NaN    NaN               College   \n",
       "\n",
       "      Customer Lifetime Value   Income  Monthly Premium Auto  \\\n",
       "0                         NaN      0.0                1000.0   \n",
       "1                  697953.59%      0.0                  94.0   \n",
       "2                 1288743.17%  48767.0                 108.0   \n",
       "3                  764586.18%      0.0                 106.0   \n",
       "4                  536307.65%  36357.0                  68.0   \n",
       "...                       ...      ...                   ...   \n",
       "12069             23405.98798  71941.0                  73.0   \n",
       "12070             3096.511217  21604.0                  79.0   \n",
       "12071             8163.890428      0.0                  85.0   \n",
       "12072             7524.442436  21941.0                  96.0   \n",
       "12073             2611.836866      0.0                  77.0   \n",
       "\n",
       "      Number of Open Complaints     Policy Type  Vehicle Class  \\\n",
       "0                        1/0/00   Personal Auto  Four-Door Car   \n",
       "1                        1/0/00   Personal Auto  Four-Door Car   \n",
       "2                        1/0/00   Personal Auto   Two-Door Car   \n",
       "3                        1/0/00  Corporate Auto            SUV   \n",
       "4                        1/0/00   Personal Auto  Four-Door Car   \n",
       "...                         ...             ...            ...   \n",
       "12069                         0   Personal Auto  Four-Door Car   \n",
       "12070                         0  Corporate Auto  Four-Door Car   \n",
       "12071                         3  Corporate Auto  Four-Door Car   \n",
       "12072                         0   Personal Auto  Four-Door Car   \n",
       "12073                         0  Corporate Auto   Two-Door Car   \n",
       "\n",
       "       Total Claim Amount       State Gender  \n",
       "0                2.704934         NaN    NaN  \n",
       "1             1131.464935         NaN    NaN  \n",
       "2              566.472247         NaN    NaN  \n",
       "3              529.881344         NaN    NaN  \n",
       "4               17.269323         NaN    NaN  \n",
       "...                   ...         ...    ...  \n",
       "12069          198.234764  California      M  \n",
       "12070          379.200000  California      F  \n",
       "12071          790.784983  California      M  \n",
       "12072          691.200000  California      M  \n",
       "12073          369.600000  California      M  \n",
       "\n",
       "[12074 rows x 13 columns]"
      ]
     },
     "execution_count": 6,
     "metadata": {},
     "output_type": "execute_result"
    }
   ],
   "source": [
    "# Combine dataframes\n",
    "combined_df = pd.concat([df1, df2, df3], ignore_index=True)\n",
    "combined_df"
   ]
  },
  {
   "cell_type": "markdown",
   "id": "e464e3f0",
   "metadata": {},
   "source": [
    "## removing rows with missing values"
   ]
  },
  {
   "cell_type": "code",
   "execution_count": 13,
   "id": "6a39ace8",
   "metadata": {},
   "outputs": [
    {
     "data": {
      "text/html": [
       "<div>\n",
       "<style scoped>\n",
       "    .dataframe tbody tr th:only-of-type {\n",
       "        vertical-align: middle;\n",
       "    }\n",
       "\n",
       "    .dataframe tbody tr th {\n",
       "        vertical-align: top;\n",
       "    }\n",
       "\n",
       "    .dataframe thead th {\n",
       "        text-align: right;\n",
       "    }\n",
       "</style>\n",
       "<table border=\"1\" class=\"dataframe\">\n",
       "  <thead>\n",
       "    <tr style=\"text-align: right;\">\n",
       "      <th></th>\n",
       "      <th>customer</th>\n",
       "      <th>st</th>\n",
       "      <th>gender</th>\n",
       "      <th>education</th>\n",
       "      <th>customer lifetime value</th>\n",
       "      <th>income</th>\n",
       "      <th>monthly premium auto</th>\n",
       "      <th>number of open complaints</th>\n",
       "      <th>policy type</th>\n",
       "      <th>vehicle class</th>\n",
       "      <th>total claim amount</th>\n",
       "      <th>state</th>\n",
       "      <th>gender</th>\n",
       "    </tr>\n",
       "  </thead>\n",
       "  <tbody>\n",
       "  </tbody>\n",
       "</table>\n",
       "</div>"
      ],
      "text/plain": [
       "Empty DataFrame\n",
       "Columns: [customer, st, gender, education, customer lifetime value, income, monthly premium auto, number of open complaints, policy type, vehicle class, total claim amount, state, gender]\n",
       "Index: []"
      ]
     },
     "execution_count": 13,
     "metadata": {},
     "output_type": "execute_result"
    }
   ],
   "source": [
    "# Drop rows with missing values\n",
    "combined_df.dropna(inplace=True)\n",
    "\n",
    "\n",
    "# Standardize column names (convert to lowercase)\n",
    "combined_df.columns = combined_df.columns.str.lower()\n",
    "combined_df.tail()"
   ]
  },
  {
   "cell_type": "code",
   "execution_count": 15,
   "id": "24865bfa",
   "metadata": {},
   "outputs": [
    {
     "data": {
      "text/html": [
       "<div>\n",
       "<style scoped>\n",
       "    .dataframe tbody tr th:only-of-type {\n",
       "        vertical-align: middle;\n",
       "    }\n",
       "\n",
       "    .dataframe tbody tr th {\n",
       "        vertical-align: top;\n",
       "    }\n",
       "\n",
       "    .dataframe thead th {\n",
       "        text-align: right;\n",
       "    }\n",
       "</style>\n",
       "<table border=\"1\" class=\"dataframe\">\n",
       "  <thead>\n",
       "    <tr style=\"text-align: right;\">\n",
       "      <th></th>\n",
       "      <th>customer</th>\n",
       "      <th>st</th>\n",
       "      <th>gender</th>\n",
       "      <th>education</th>\n",
       "      <th>customer lifetime value</th>\n",
       "      <th>income</th>\n",
       "      <th>monthly premium auto</th>\n",
       "      <th>number of open complaints</th>\n",
       "      <th>policy type</th>\n",
       "      <th>vehicle class</th>\n",
       "      <th>total claim amount</th>\n",
       "      <th>state</th>\n",
       "      <th>gender</th>\n",
       "    </tr>\n",
       "  </thead>\n",
       "  <tbody>\n",
       "  </tbody>\n",
       "</table>\n",
       "</div>"
      ],
      "text/plain": [
       "Empty DataFrame\n",
       "Columns: [customer, st, gender, education, customer lifetime value, income, monthly premium auto, number of open complaints, policy type, vehicle class, total claim amount, state, gender]\n",
       "Index: []"
      ]
     },
     "execution_count": 15,
     "metadata": {},
     "output_type": "execute_result"
    }
   ],
   "source": [
    "# Export cleaned dataframe to CSV\n",
    "combined_df.to_csv(\"combined_data.csv\", index=False)\n",
    "combined_df"
   ]
  },
  {
   "cell_type": "markdown",
   "id": "31b8a9e7-7db9-4604-991b-ef6771603e57",
   "metadata": {
    "id": "31b8a9e7-7db9-4604-991b-ef6771603e57"
   },
   "source": [
    "# Challenge 2: Structuring Data"
   ]
  },
  {
   "cell_type": "markdown",
   "id": "a877fd6d-7a0c-46d2-9657-f25036e4ca4b",
   "metadata": {
    "id": "a877fd6d-7a0c-46d2-9657-f25036e4ca4b"
   },
   "source": [
    "In this challenge, we will continue to work with customer data from an insurance company, but we will use a dataset with more columns, called marketing_customer_analysis.csv, which can be found at the following link:\n",
    "\n",
    "https://raw.githubusercontent.com/data-bootcamp-v4/data/main/marketing_customer_analysis_clean.csv\n",
    "\n",
    "This dataset contains information such as customer demographics, policy details, vehicle information, and the customer's response to the last marketing campaign. Our goal is to explore and analyze this data by performing data cleaning, formatting, and structuring."
   ]
  },
  {
   "cell_type": "code",
   "execution_count": 37,
   "id": "aa10d9b0-1c27-4d3f-a8e4-db6ab73bfd26",
   "metadata": {
    "id": "aa10d9b0-1c27-4d3f-a8e4-db6ab73bfd26"
   },
   "outputs": [
    {
     "name": "stdout",
     "output_type": "stream",
     "text": [
      "   unnamed:_0 customer       state  customer_lifetime_value response  \\\n",
      "0           0  DK49336     Arizona              4809.216960       No   \n",
      "1           1  KX64629  California              2228.525238       No   \n",
      "2           2  LZ68649  Washington             14947.917300       No   \n",
      "3           3  XL78013      Oregon             22332.439460      Yes   \n",
      "4           4  QA50777      Oregon              9025.067525       No   \n",
      "\n",
      "   coverage education effective_to_date employmentstatus gender  ...  \\\n",
      "0     Basic   College        2011-02-18         Employed      M  ...   \n",
      "1     Basic   College        2011-01-18       Unemployed      F  ...   \n",
      "2     Basic  Bachelor        2011-02-10         Employed      M  ...   \n",
      "3  Extended   College        2011-01-11         Employed      M  ...   \n",
      "4   Premium  Bachelor        2011-01-17    Medical Leave      F  ...   \n",
      "\n",
      "   number_of_policies     policy_type        policy  renew_offer_type  \\\n",
      "0                   9  Corporate Auto  Corporate L3            Offer3   \n",
      "1                   1   Personal Auto   Personal L3            Offer4   \n",
      "2                   2   Personal Auto   Personal L3            Offer3   \n",
      "3                   2  Corporate Auto  Corporate L3            Offer2   \n",
      "4                   7   Personal Auto   Personal L2            Offer1   \n",
      "\n",
      "   sales_channel  total_claim_amount  vehicle_class  vehicle_size  \\\n",
      "0          Agent          292.800000  Four-Door Car       Medsize   \n",
      "1    Call Center          744.924331  Four-Door Car       Medsize   \n",
      "2    Call Center          480.000000            SUV       Medsize   \n",
      "3         Branch          484.013411  Four-Door Car       Medsize   \n",
      "4         Branch          707.925645  Four-Door Car       Medsize   \n",
      "\n",
      "  vehicle_type month  \n",
      "0            A     2  \n",
      "1            A     1  \n",
      "2            A     2  \n",
      "3            A     1  \n",
      "4            A     1  \n",
      "\n",
      "[5 rows x 27 columns]\n",
      "<class 'pandas.core.frame.DataFrame'>\n",
      "RangeIndex: 10910 entries, 0 to 10909\n",
      "Data columns (total 27 columns):\n",
      " #   Column                         Non-Null Count  Dtype  \n",
      "---  ------                         --------------  -----  \n",
      " 0   unnamed:_0                     10910 non-null  int64  \n",
      " 1   customer                       10910 non-null  object \n",
      " 2   state                          10910 non-null  object \n",
      " 3   customer_lifetime_value        10910 non-null  float64\n",
      " 4   response                       10910 non-null  object \n",
      " 5   coverage                       10910 non-null  object \n",
      " 6   education                      10910 non-null  object \n",
      " 7   effective_to_date              10910 non-null  object \n",
      " 8   employmentstatus               10910 non-null  object \n",
      " 9   gender                         10910 non-null  object \n",
      " 10  income                         10910 non-null  int64  \n",
      " 11  location_code                  10910 non-null  object \n",
      " 12  marital_status                 10910 non-null  object \n",
      " 13  monthly_premium_auto           10910 non-null  int64  \n",
      " 14  months_since_last_claim        10910 non-null  float64\n",
      " 15  months_since_policy_inception  10910 non-null  int64  \n",
      " 16  number_of_open_complaints      10910 non-null  float64\n",
      " 17  number_of_policies             10910 non-null  int64  \n",
      " 18  policy_type                    10910 non-null  object \n",
      " 19  policy                         10910 non-null  object \n",
      " 20  renew_offer_type               10910 non-null  object \n",
      " 21  sales_channel                  10910 non-null  object \n",
      " 22  total_claim_amount             10910 non-null  float64\n",
      " 23  vehicle_class                  10910 non-null  object \n",
      " 24  vehicle_size                   10910 non-null  object \n",
      " 25  vehicle_type                   10910 non-null  object \n",
      " 26  month                          10910 non-null  int64  \n",
      "dtypes: float64(4), int64(6), object(17)\n",
      "memory usage: 2.2+ MB\n",
      "None\n"
     ]
    }
   ],
   "source": [
    "# Your code goes here\n",
    "\n",
    "import pandas as pd\n",
    "\n",
    "# Read the dataset\n",
    "url = \"https://raw.githubusercontent.com/data-bootcamp-v4/data/main/marketing_customer_analysis_clean.csv\"\n",
    "df = pd.read_csv(url)\n",
    "\n",
    "# Display the first few rows of the dataframe\n",
    "print(df.head())\n"
   ]
  },
  {
   "cell_type": "code",
   "execution_count": 40,
   "id": "d2428887",
   "metadata": {},
   "outputs": [
    {
     "name": "stdout",
     "output_type": "stream",
     "text": [
      "<class 'pandas.core.frame.DataFrame'>\n",
      "RangeIndex: 10910 entries, 0 to 10909\n",
      "Data columns (total 27 columns):\n",
      " #   Column                         Non-Null Count  Dtype  \n",
      "---  ------                         --------------  -----  \n",
      " 0   unnamed:_0                     10910 non-null  int64  \n",
      " 1   customer                       10910 non-null  object \n",
      " 2   state                          10910 non-null  object \n",
      " 3   customer_lifetime_value        10910 non-null  float64\n",
      " 4   response                       10910 non-null  object \n",
      " 5   coverage                       10910 non-null  object \n",
      " 6   education                      10910 non-null  object \n",
      " 7   effective_to_date              10910 non-null  object \n",
      " 8   employmentstatus               10910 non-null  object \n",
      " 9   gender                         10910 non-null  object \n",
      " 10  income                         10910 non-null  int64  \n",
      " 11  location_code                  10910 non-null  object \n",
      " 12  marital_status                 10910 non-null  object \n",
      " 13  monthly_premium_auto           10910 non-null  int64  \n",
      " 14  months_since_last_claim        10910 non-null  float64\n",
      " 15  months_since_policy_inception  10910 non-null  int64  \n",
      " 16  number_of_open_complaints      10910 non-null  float64\n",
      " 17  number_of_policies             10910 non-null  int64  \n",
      " 18  policy_type                    10910 non-null  object \n",
      " 19  policy                         10910 non-null  object \n",
      " 20  renew_offer_type               10910 non-null  object \n",
      " 21  sales_channel                  10910 non-null  object \n",
      " 22  total_claim_amount             10910 non-null  float64\n",
      " 23  vehicle_class                  10910 non-null  object \n",
      " 24  vehicle_size                   10910 non-null  object \n",
      " 25  vehicle_type                   10910 non-null  object \n",
      " 26  month                          10910 non-null  int64  \n",
      "dtypes: float64(4), int64(6), object(17)\n",
      "memory usage: 2.2+ MB\n",
      "None\n",
      "Summary Statistics for Numerical Columns:\n",
      "         unnamed:_0  customer_lifetime_value        income  \\\n",
      "count  10910.000000             10910.000000  10910.000000   \n",
      "mean    5454.500000              8018.241094  37536.284785   \n",
      "std     3149.590053              6885.081434  30359.195670   \n",
      "min        0.000000              1898.007675      0.000000   \n",
      "25%     2727.250000              4014.453113      0.000000   \n",
      "50%     5454.500000              5771.147235  33813.500000   \n",
      "75%     8181.750000              8992.779137  62250.750000   \n",
      "max    10909.000000             83325.381190  99981.000000   \n",
      "\n",
      "       monthly_premium_auto  months_since_last_claim  \\\n",
      "count          10910.000000             10910.000000   \n",
      "mean              93.196059                15.149071   \n",
      "std               34.442532                 9.783520   \n",
      "min               61.000000                 0.000000   \n",
      "25%               68.000000                 7.000000   \n",
      "50%               83.000000                15.000000   \n",
      "75%              109.000000                23.000000   \n",
      "max              298.000000                35.000000   \n",
      "\n",
      "       months_since_policy_inception  number_of_open_complaints  \\\n",
      "count                   10910.000000               10910.000000   \n",
      "mean                       48.091934                   0.384256   \n",
      "std                        27.940675                   0.885589   \n",
      "min                         0.000000                   0.000000   \n",
      "25%                        24.000000                   0.000000   \n",
      "50%                        48.000000                   0.000000   \n",
      "75%                        71.000000                   0.384256   \n",
      "max                        99.000000                   5.000000   \n",
      "\n",
      "       number_of_policies  total_claim_amount         month  \n",
      "count        10910.000000        10910.000000  10910.000000  \n",
      "mean             2.979193          434.888330      1.466728  \n",
      "std              2.399359          292.180556      0.498915  \n",
      "min              1.000000            0.099007      1.000000  \n",
      "25%              1.000000          271.082527      1.000000  \n",
      "50%              2.000000          382.564630      1.000000  \n",
      "75%              4.000000          547.200000      2.000000  \n",
      "max              9.000000         2893.239678      2.000000  \n"
     ]
    }
   ],
   "source": [
    "#print info of dataset to get an idea of the info it contains:\n",
    "\n",
    "print(df.info())\n",
    "\n",
    "# Summary statistics for numerical columns\n",
    "print(\"Summary Statistics for Numerical Columns:\")\n",
    "print(df.describe())\n",
    "\n",
    "\n",
    "\n"
   ]
  },
  {
   "cell_type": "code",
   "execution_count": 43,
   "id": "674d002e",
   "metadata": {},
   "outputs": [
    {
     "name": "stdout",
     "output_type": "stream",
     "text": [
      "Total Number of Policies Sold: 32503\n",
      "Total Claim Amounts: count    10910.000000\n",
      "mean       434.888330\n",
      "std        292.180556\n",
      "Name: total_claim_amount, dtype: float64\n",
      "Average Income by Gender:\n",
      "        count          mean           std\n",
      "gender                                   \n",
      "F        5573  37870.937915  30274.546744\n",
      "M        5337  37186.833427  30446.247204\n",
      "Total Number of Customers by Response to Marketing Campaign:\n",
      "response\n",
      "No     9444\n",
      "Yes    1466\n",
      "Name: count, dtype: int64\n"
     ]
    }
   ],
   "source": [
    "# Total number of policies sold\n",
    "total_policies_sold = df['number_of_policies'].sum()\n",
    "print(\"Total Number of Policies Sold:\", total_policies_sold)\n",
    "\n",
    "# Total claim amounts\n",
    "total_claim_amount = df['total_claim_amount'].agg(['count', 'mean', 'std'])\n",
    "print(\"Total Claim Amounts:\", total_claim_amount)\n",
    "\n",
    "\n"
   ]
  },
  {
   "cell_type": "code",
   "execution_count": 46,
   "id": "dd391730",
   "metadata": {},
   "outputs": [
    {
     "name": "stdout",
     "output_type": "stream",
     "text": [
      "Statistics for Income by Gender:\n",
      "        count          mean           std\n",
      "gender                                   \n",
      "F        5573  37870.937915  30274.546744\n",
      "M        5337  37186.833427  30446.247204\n"
     ]
    }
   ],
   "source": [
    "# Income segregated by gender\n",
    "stats_income_by_gender = df.groupby('gender')['income'].agg(['count', 'mean', 'std'])\n",
    "print(\"Statistics for Income by Gender:\")\n",
    "print(stats_income_by_gender)\n",
    "\n"
   ]
  },
  {
   "cell_type": "code",
   "execution_count": 44,
   "id": "5e8975a9",
   "metadata": {},
   "outputs": [
    {
     "name": "stdout",
     "output_type": "stream",
     "text": [
      "Total Number of Customers by Response to Marketing Campaign:\n",
      "response\n",
      "No     9444\n",
      "Yes    1466\n",
      "Name: count, dtype: int64\n"
     ]
    }
   ],
   "source": [
    "# Total number of customers by response to marketing campaign\n",
    "customers_by_response = df['response'].value_counts()\n",
    "print(\"Total Number of Customers by Response to Marketing Campaign:\")\n",
    "print(customers_by_response)"
   ]
  },
  {
   "cell_type": "code",
   "execution_count": 19,
   "id": "173d126e",
   "metadata": {},
   "outputs": [],
   "source": []
  },
  {
   "cell_type": "code",
   "execution_count": null,
   "id": "0ffd0b47",
   "metadata": {},
   "outputs": [],
   "source": []
  },
  {
   "cell_type": "markdown",
   "id": "df35fd0d-513e-4e77-867e-429da10a9cc7",
   "metadata": {
    "id": "df35fd0d-513e-4e77-867e-429da10a9cc7"
   },
   "source": [
    "1. You work at the marketing department and you want to know which sales channel brought the most sales in terms of total revenue. Using pivot, create a summary table showing the total revenue for each sales channel (branch, call center, web, and mail).\n",
    "Round the total revenue to 2 decimal points.  Analyze the resulting table to draw insights."
   ]
  },
  {
   "cell_type": "markdown",
   "id": "640993b2-a291-436c-a34d-a551144f8196",
   "metadata": {
    "id": "640993b2-a291-436c-a34d-a551144f8196"
   },
   "source": [
    "2. Create a pivot table that shows the average customer lifetime value per gender and education level. Analyze the resulting table to draw insights."
   ]
  },
  {
   "cell_type": "markdown",
   "id": "32c7f2e5-3d90-43e5-be33-9781b6069198",
   "metadata": {
    "id": "32c7f2e5-3d90-43e5-be33-9781b6069198"
   },
   "source": [
    "## Bonus\n",
    "\n",
    "You work at the customer service department and you want to know which months had the highest number of complaints by policy type category. Create a summary table showing the number of complaints by policy type and month.\n",
    "Show it in a long format table."
   ]
  },
  {
   "cell_type": "markdown",
   "id": "e3d09a8f-953c-448a-a5f8-2e5a8cca7291",
   "metadata": {
    "id": "e3d09a8f-953c-448a-a5f8-2e5a8cca7291"
   },
   "source": [
    "*In data analysis, a long format table is a way of structuring data in which each observation or measurement is stored in a separate row of the table. The key characteristic of a long format table is that each column represents a single variable, and each row represents a single observation of that variable.*\n",
    "\n",
    "*More information about long and wide format tables here: https://www.statology.org/long-vs-wide-data/*"
   ]
  },
  {
   "cell_type": "code",
   "execution_count": null,
   "id": "3a069e0b-b400-470e-904d-d17582191be4",
   "metadata": {
    "id": "3a069e0b-b400-470e-904d-d17582191be4"
   },
   "outputs": [],
   "source": [
    "# Your code goes here"
   ]
  }
 ],
 "metadata": {
  "colab": {
   "provenance": []
  },
  "kernelspec": {
   "display_name": "Python 3 (ipykernel)",
   "language": "python",
   "name": "python3"
  },
  "language_info": {
   "codemirror_mode": {
    "name": "ipython",
    "version": 3
   },
   "file_extension": ".py",
   "mimetype": "text/x-python",
   "name": "python",
   "nbconvert_exporter": "python",
   "pygments_lexer": "ipython3",
   "version": "3.11.5"
  }
 },
 "nbformat": 4,
 "nbformat_minor": 5
}
